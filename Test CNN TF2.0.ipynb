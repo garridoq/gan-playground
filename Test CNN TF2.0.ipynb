{
 "cells": [
  {
   "cell_type": "code",
   "execution_count": 1,
   "metadata": {
    "scrolled": true
   },
   "outputs": [],
   "source": [
    "%load_ext tensorboard.notebook"
   ]
  },
  {
   "cell_type": "code",
   "execution_count": 2,
   "metadata": {},
   "outputs": [],
   "source": [
    "!rm -rf ./logs/ "
   ]
  },
  {
   "cell_type": "code",
   "execution_count": 3,
   "metadata": {},
   "outputs": [],
   "source": [
    "import tensorflow as tf\n",
    "import datetime"
   ]
  },
  {
   "cell_type": "code",
   "execution_count": 4,
   "metadata": {},
   "outputs": [],
   "source": [
    "from tensorflow.keras import datasets, layers, models\n"
   ]
  },
  {
   "cell_type": "code",
   "execution_count": 5,
   "metadata": {},
   "outputs": [],
   "source": [
    "class CNN():\n",
    "    def __init__(self, img_width, img_height, channels):\n",
    "        self.img_width = img_width\n",
    "        self.image_height = img_height\n",
    "        self.channels = channels\n",
    "        self.model = None\n",
    "        self.tb_callback = None\n",
    "    \n",
    "    def gen_model(self, dropout=0.2, depth=32):\n",
    "        self.model = models.Sequential()\n",
    "        \n",
    "        self.model.add(layers.Conv2D(depth, (3, 3), activation='relu', input_shape=(28, 28, 1)))\n",
    "        self.model.add(layers.MaxPooling2D((2, 2)))\n",
    "        self.model.add(layers.Dropout(dropout))\n",
    "        \n",
    "        self.model.add(layers.Conv2D(depth*2, (3, 3), activation='relu'))\n",
    "        self.model.add(layers.MaxPooling2D((2, 2)))\n",
    "        self.model.add(layers.Dropout(dropout))\n",
    "        \n",
    "        self.model.add(layers.Conv2D(depth*2, (3, 3), activation='relu'))\n",
    "        self.model.add(layers.Flatten())\n",
    "        self.model.add(layers.Dense(depth*2, activation='relu'))\n",
    "        self.model.add(layers.Dense(10, activation='softmax'))\n",
    "        \n",
    "        self.model.summary()\n",
    "        \n",
    "        return self.model\n",
    "    \n",
    "    def train(self,\n",
    "              train_images, \n",
    "              train_labels,\n",
    "              optimizer='adam', \n",
    "              loss='sparse_categorical_crossentropy',\n",
    "              tensorboard=True,\n",
    "              epochs=10\n",
    "              ):\n",
    "        \n",
    "        self.model.compile(optimizer=optimizer, loss=loss,  metrics=['accuracy'])\n",
    "        \n",
    "        if tensorboard:\n",
    "            log_dir=\"logs/fit/\" + datetime.datetime.now().strftime(\"%Y%m%d-%H%M%S\")\n",
    "            self.tb_callback = tf.keras.callbacks.TensorBoard(log_dir=log_dir, histogram_freq=1)\n",
    "            self.model.fit(train_images, train_labels, epochs=epochs, callbacks=[self.tb_callback])\n",
    "        else:\n",
    "            self.model.fit(train_images, train_labels, epochs=epochs)\n",
    "  \n",
    "    \n",
    "    def evaluate(self,test_images, test_labels):\n",
    "        test_loss, test_acc = self.model.evaluate(test_images, test_labels)\n",
    "        print(\"Loss : \\n {}\".format(test_loss))\n",
    "        print(\"Accruacy : \\n {}\".format(test_acc))\n",
    "\n",
    "        "
   ]
  },
  {
   "cell_type": "code",
   "execution_count": 6,
   "metadata": {},
   "outputs": [],
   "source": [
    "(train_images, train_labels), (test_images, test_labels) = datasets.mnist.load_data()"
   ]
  },
  {
   "cell_type": "code",
   "execution_count": 7,
   "metadata": {},
   "outputs": [],
   "source": [
    "train_images = train_images.reshape((60000, 28, 28, 1))\n",
    "test_images = test_images.reshape((10000, 28, 28, 1))"
   ]
  },
  {
   "cell_type": "code",
   "execution_count": 8,
   "metadata": {},
   "outputs": [
    {
     "name": "stdout",
     "output_type": "stream",
     "text": [
      "Model: \"sequential\"\n",
      "_________________________________________________________________\n",
      "Layer (type)                 Output Shape              Param #   \n",
      "=================================================================\n",
      "conv2d (Conv2D)              (None, 26, 26, 32)        320       \n",
      "_________________________________________________________________\n",
      "max_pooling2d (MaxPooling2D) (None, 13, 13, 32)        0         \n",
      "_________________________________________________________________\n",
      "dropout (Dropout)            (None, 13, 13, 32)        0         \n",
      "_________________________________________________________________\n",
      "conv2d_1 (Conv2D)            (None, 11, 11, 64)        18496     \n",
      "_________________________________________________________________\n",
      "max_pooling2d_1 (MaxPooling2 (None, 5, 5, 64)          0         \n",
      "_________________________________________________________________\n",
      "dropout_1 (Dropout)          (None, 5, 5, 64)          0         \n",
      "_________________________________________________________________\n",
      "conv2d_2 (Conv2D)            (None, 3, 3, 64)          36928     \n",
      "_________________________________________________________________\n",
      "flatten (Flatten)            (None, 576)               0         \n",
      "_________________________________________________________________\n",
      "dense (Dense)                (None, 64)                36928     \n",
      "_________________________________________________________________\n",
      "dense_1 (Dense)              (None, 10)                650       \n",
      "=================================================================\n",
      "Total params: 93,322\n",
      "Trainable params: 93,322\n",
      "Non-trainable params: 0\n",
      "_________________________________________________________________\n"
     ]
    },
    {
     "data": {
      "text/plain": [
       "<tensorflow.python.keras.engine.sequential.Sequential at 0x7fec25c84cf8>"
      ]
     },
     "execution_count": 8,
     "metadata": {},
     "output_type": "execute_result"
    }
   ],
   "source": [
    "cnn = CNN(28,28,1)\n",
    "cnn.gen_model()"
   ]
  },
  {
   "cell_type": "code",
   "execution_count": 9,
   "metadata": {},
   "outputs": [
    {
     "name": "stdout",
     "output_type": "stream",
     "text": [
      "Epoch 1/10\n",
      "60000/60000 [==============================] - 13s 217us/sample - loss: 0.4241 - accuracy: 0.9051\n",
      "Epoch 2/10\n",
      "60000/60000 [==============================] - 14s 226us/sample - loss: 0.0896 - accuracy: 0.9727\n",
      "Epoch 3/10\n",
      "60000/60000 [==============================] - 14s 230us/sample - loss: 0.0719 - accuracy: 0.9781\n",
      "Epoch 4/10\n",
      "60000/60000 [==============================] - 14s 230us/sample - loss: 0.0647 - accuracy: 0.9802\n",
      "Epoch 5/10\n",
      "60000/60000 [==============================] - 14s 229us/sample - loss: 0.0563 - accuracy: 0.9836\n",
      "Epoch 6/10\n",
      "60000/60000 [==============================] - 13s 223us/sample - loss: 0.0528 - accuracy: 0.9846\n",
      "Epoch 7/10\n",
      "60000/60000 [==============================] - 13s 223us/sample - loss: 0.0483 - accuracy: 0.9857\n",
      "Epoch 8/10\n",
      "60000/60000 [==============================] - 13s 224us/sample - loss: 0.0437 - accuracy: 0.9871\n",
      "Epoch 9/10\n",
      "60000/60000 [==============================] - 13s 222us/sample - loss: 0.0440 - accuracy: 0.9870\n",
      "Epoch 10/10\n",
      "60000/60000 [==============================] - 13s 223us/sample - loss: 0.0415 - accuracy: 0.9883\n"
     ]
    }
   ],
   "source": [
    "cnn.train(train_images, train_labels)"
   ]
  },
  {
   "cell_type": "code",
   "execution_count": 10,
   "metadata": {},
   "outputs": [
    {
     "data": {
      "text/html": [
       "\n",
       "        <iframe\n",
       "            width=\"100%\"\n",
       "            height=\"800\"\n",
       "            src=\"http://localhost:6006\"\n",
       "            frameborder=\"0\"\n",
       "            allowfullscreen\n",
       "        ></iframe>\n",
       "        "
      ],
      "text/plain": [
       "<IPython.lib.display.IFrame at 0x7fec183f7da0>"
      ]
     },
     "metadata": {},
     "output_type": "display_data"
    }
   ],
   "source": [
    "%tensorboard --logdir logs/fit"
   ]
  },
  {
   "cell_type": "code",
   "execution_count": null,
   "metadata": {},
   "outputs": [],
   "source": []
  }
 ],
 "metadata": {
  "kernelspec": {
   "display_name": "Python 3",
   "language": "python",
   "name": "python3"
  },
  "language_info": {
   "codemirror_mode": {
    "name": "ipython",
    "version": 3
   },
   "file_extension": ".py",
   "mimetype": "text/x-python",
   "name": "python",
   "nbconvert_exporter": "python",
   "pygments_lexer": "ipython3",
   "version": "3.7.1"
  }
 },
 "nbformat": 4,
 "nbformat_minor": 2
}
